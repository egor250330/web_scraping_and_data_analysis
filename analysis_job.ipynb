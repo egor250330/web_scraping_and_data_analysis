{
 "cells": [
  {
   "cell_type": "code",
   "id": "initial_id",
   "metadata": {
    "collapsed": true,
    "ExecuteTime": {
     "end_time": "2024-11-14T15:18:51.892514Z",
     "start_time": "2024-11-14T15:18:49.546682Z"
    }
   },
   "source": [
    "import numpy as np\n",
    "import pandas as pd\n",
    "import matplotlib.pyplot as plt"
   ],
   "outputs": [],
   "execution_count": 1
  },
  {
   "metadata": {},
   "cell_type": "code",
   "source": [
    "file_path = \"python_developer_jobs.csv\"\n",
    "df = pd.read_csv(file_path)\n",
    "df.head()"
   ],
   "id": "30a8da3c036d9abc",
   "outputs": [],
   "execution_count": null
  },
  {
   "metadata": {
    "ExecuteTime": {
     "end_time": "2024-11-14T15:19:53.216619Z",
     "start_time": "2024-11-14T15:19:53.204618Z"
    }
   },
   "cell_type": "code",
   "source": [
    "from collections import Counter\n",
    "\n",
    "technologies = ['Django', 'Flask', 'PostgreSQL', 'Python', 'AWS', 'Docker']\n",
    "tech_count = Counter()\n",
    "\n",
    "for title in df['Job Title']:\n",
    "    for tech in technologies:\n",
    "        if tech.lower() in title.lower():\n",
    "            tech_count[tech] += 1\n"
   ],
   "id": "56752281ca1f22a0",
   "outputs": [],
   "execution_count": 3
  },
  {
   "metadata": {},
   "cell_type": "code",
   "source": [
    "techs, counts = zip(*tech_count.items())\n",
    "plt.bar(techs, counts)\n",
    "plt.xlabel('Technology')\n",
    "plt.ylabel('Number of Listings')\n",
    "plt.title('Most Popular Technologies for Python Developers')\n",
    "plt.xticks(rotation=45)\n",
    "plt.show()\n"
   ],
   "id": "eec46a6fe42910ad",
   "outputs": [],
   "execution_count": null
  },
  {
   "metadata": {},
   "cell_type": "code",
   "outputs": [],
   "execution_count": null,
   "source": "",
   "id": "4703e7a36a7f4337"
  }
 ],
 "metadata": {
  "kernelspec": {
   "display_name": "Python 3",
   "language": "python",
   "name": "python3"
  },
  "language_info": {
   "codemirror_mode": {
    "name": "ipython",
    "version": 2
   },
   "file_extension": ".py",
   "mimetype": "text/x-python",
   "name": "python",
   "nbconvert_exporter": "python",
   "pygments_lexer": "ipython2",
   "version": "2.7.6"
  }
 },
 "nbformat": 4,
 "nbformat_minor": 5
}
